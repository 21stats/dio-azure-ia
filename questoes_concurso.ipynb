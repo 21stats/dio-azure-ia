{
  "cells": [
    {
      "cell_type": "code",
      "execution_count": 2,
      "metadata": {
        "colab": {
          "base_uri": "https://localhost:8080/"
        },
        "id": "blKw0lnNm2sR",
        "outputId": "31ea57cc-c04f-46ad-b891-66096928fcaf"
      },
      "outputs": [
        {
          "name": "stdout",
          "output_type": "stream",
          "text": [
            "Requirement already satisfied: requests in /usr/local/lib/python3.12/dist-packages (2.32.4)\n",
            "Collecting python-docx\n",
            "  Downloading python_docx-1.2.0-py3-none-any.whl.metadata (2.0 kB)\n",
            "Requirement already satisfied: charset_normalizer<4,>=2 in /usr/local/lib/python3.12/dist-packages (from requests) (3.4.4)\n",
            "Requirement already satisfied: idna<4,>=2.5 in /usr/local/lib/python3.12/dist-packages (from requests) (3.11)\n",
            "Requirement already satisfied: urllib3<3,>=1.21.1 in /usr/local/lib/python3.12/dist-packages (from requests) (2.5.0)\n",
            "Requirement already satisfied: certifi>=2017.4.17 in /usr/local/lib/python3.12/dist-packages (from requests) (2025.10.5)\n",
            "Requirement already satisfied: lxml>=3.1.0 in /usr/local/lib/python3.12/dist-packages (from python-docx) (5.4.0)\n",
            "Requirement already satisfied: typing_extensions>=4.9.0 in /usr/local/lib/python3.12/dist-packages (from python-docx) (4.15.0)\n",
            "Downloading python_docx-1.2.0-py3-none-any.whl (252 kB)\n",
            "\u001b[2K   \u001b[90m━━━━━━━━━━━━━━━━━━━━━━━━━━━━━━━━━━━━━━━━\u001b[0m \u001b[32m253.0/253.0 kB\u001b[0m \u001b[31m6.5 MB/s\u001b[0m eta \u001b[36m0:00:00\u001b[0m\n",
            "\u001b[?25hInstalling collected packages: python-docx\n",
            "Successfully installed python-docx-1.2.0\n"
          ]
        }
      ],
      "source": [
        "!pip install requests python-docx"
      ]
    },
    {
      "cell_type": "code",
      "execution_count": 3,
      "metadata": {
        "id": "JrY2g7r3moW1"
      },
      "outputs": [],
      "source": [
        "import requests\n",
        "from docx import Document\n",
        "import os"
      ]
    },
    {
      "cell_type": "code",
      "execution_count": null,
      "metadata": {
        "id": "Cd9e6GDdmvcg"
      },
      "outputs": [],
      "source": [
        "subscription_key = \"\" # adicionar sua subscription\n",
        "endpoint = \"https://api.cognitive.microsofttranslator.com/\"\n",
        "location = \"global\"\n",
        "\n",
        "def translate_text(text, target_lang=\"en\"):\n",
        "    path = '/translate'\n",
        "    constructed_url = endpoint + path\n",
        "\n",
        "    headers = {\n",
        "        'Ocp-Apim-Subscription-Key': subscription_key,\n",
        "        'Ocp-Apim-Subscription-Region': location,\n",
        "        'Content-type': 'application/json',\n",
        "        'X-ClientTraceId' : str(os.urandom(16))\n",
        "    }\n",
        "\n",
        "    body = [{\n",
        "        'text': text\n",
        "    }]\n",
        "\n",
        "    params = {\n",
        "        'api-version': '3.0',\n",
        "        'from': 'pt-br',\n",
        "        'to': target_lang\n",
        "    }\n",
        "\n",
        "    request = requests.post(constructed_url, params=params, headers=headers, json=body)\n",
        "    response = request.json()\n",
        "    return response"
      ]
    },
    {
      "cell_type": "markdown",
      "metadata": {
        "id": "FdxtzNpdxmJa"
      },
      "source": [
        "Exemplos:"
      ]
    },
    {
      "cell_type": "markdown",
      "metadata": {
        "id": "C88jbwv2xX32"
      },
      "source": [
        "Questão: https://www.qconcursos.com/questoes-de-concursos/questoes/80dfa338-ae"
      ]
    },
    {
      "cell_type": "code",
      "execution_count": 10,
      "metadata": {
        "colab": {
          "base_uri": "https://localhost:8080/"
        },
        "id": "chbl_B65ow70",
        "outputId": "bde44312-ba9c-4d3f-bc58-712c0f330d62"
      },
      "outputs": [
        {
          "data": {
            "text/plain": [
              "[{'translations': [{'text': \"\\nEmail protocols, such as SMTP, IMAP, and POP, are essential for people or businesses that rely on this communication tool. After all, these protocols are responsible for managing the sending, receiving, and synchronization of messages, directly impacting the efficiency and security of email use. Evaluate the following statements on this subject.\\n\\nI- It is the standard protocol for sending e-mails on the internet. His function, then, is strictly to send emails, that is, he is not responsible for receiving or managing messages on the recipient's side.\\nII- It is one of the oldest protocols for receiving e-mail. Its main function is to download messages from the server to the local device, such as a computer or smartphone, and remove them from the server after downloading (although there is the option to leave copies on the server).\\nIII- It is a protocol designed to manage and synchronize emails on different devices, allowing messages to remain stored on the server, synchronizing them in real time with all connected devices.\\n\\nCheck the alternative that presents the CORRECT sequence of the names of the protocols, considering the statements from top to bottom. \\nAlternatives\\nA) IMAP, POP, SMTP. \\nB) IMAP, SMTP, POP. \\nC) POP, IMAP, SMTP.\\nD) SMTP, POP, IMAP. \\nE) SMTP, IMAP, POP. \\n\",\n",
              "    'to': 'en'}]}]"
            ]
          },
          "execution_count": 10,
          "metadata": {},
          "output_type": "execute_result"
        }
      ],
      "source": [
        "translate_text(\"\"\"\n",
        "Os protocolos de e-mail, como SMTP, IMAP e POP, são essenciais para pessoas ou empresas que dependem dessa ferramenta de comunicação. Afinal, esses protocolos são responsáveis por gerenciar o envio, o recebimento e a sincronização das mensagens, impactando diretamente na eficiência e segurança do uso do e-mail. Avalie as afirmativas a seguir sobre esse assunto.\n",
        "\n",
        "I- É o protocolo padrão para o envio de e-mails na internet. A sua função, então, é estritamente o envio de e-mails, ou seja, ele não é responsável pelo recebimento ou pela gestão das mensagens no lado do destinatário.\n",
        "II- É um dos protocolos mais antigos de recebimento de e-mail. A sua função principal é baixar as mensagens do servidor para o dispositivo local, como um computador ou smartphone, e removê-las do servidor após o download (embora haja a opção de deixar cópias no servidor).\n",
        "III- É um protocolo projetado para gerenciar e sincronizar e-mails em diferentes dispositivos, permitindo que as mensagens permaneçam armazenadas no servidor, sincronizando-as em tempo real com todos os dispositivos conectados.\n",
        "\n",
        "Assinale a alternativa que apresenta a sequência CORRETA dos nomes dos protocolos, considerando as afirmativas de cima para baixo.\n",
        "Alternativas\n",
        "A) IMAP, POP, SMTP.\n",
        "B) IMAP, SMTP, POP.\n",
        "C) POP, IMAP, SMTP.\n",
        "D) SMTP, POP, IMAP.\n",
        "E) SMTP, IMAP, POP.\n",
        "\"\"\")"
      ]
    },
    {
      "cell_type": "markdown",
      "metadata": {
        "id": "g4YwTF--xG61"
      },
      "source": [
        "Questão: https://www.qconcursos.com/questoes-de-concursos/questoes/4cb41766-a9"
      ]
    },
    {
      "cell_type": "code",
      "execution_count": 11,
      "metadata": {
        "colab": {
          "base_uri": "https://localhost:8080/"
        },
        "id": "pD6L3EqHwzAz",
        "outputId": "ae86ac65-580c-466b-e49a-4dbf7b6eac1c"
      },
      "outputs": [
        {
          "data": {
            "text/plain": [
              "[{'translations': [{'text': '\\nIn a digital cartography project applied to traffic, the positional accuracy of a set of road intersection points (intersections) surveyed in the field with GPS and compared with their coordinates on the digital map of the city was evaluated. To verify the accuracy of the mapping, the Root Mean Square Error (RMSEr) was used.\\n\\nConsidering the following positional errors (in meters) obtained for 4 intersections:\\n\\n• Crossing 1: 1.0 m\\n• Crossing 2: 2.0 m\\n• Crossing 3: 1.0 m\\n• Crossing 4: 2.0 m\\n\\nConsidering √2 = 1.4, √3 = 1.7 and √5 = 2.2, the RMSEr value is approximately\\nAlternatives\\nA) 1.00 m.\\nB) 1.19 m.\\nC) 1.54 m.\\nD) 1.87 m.\\nE) 2.20 m.\\n\\n',\n",
              "    'to': 'en'}]}]"
            ]
          },
          "execution_count": 11,
          "metadata": {},
          "output_type": "execute_result"
        }
      ],
      "source": [
        "translate_text(\"\"\"\n",
        "\n",
        "\n",
        "Em um projeto de cartografia digital aplicado ao trânsito, foi avaliada a precisão posicional de um conjunto de pontos de interseções viárias (cruzamentos) levantados em campo com GPS e comparados com suas coordenadas no mapa digital da cidade. Para verificar a exatidão do mapeamento, utilizou-se o Erro Médio Quadrático da Raiz (RMSEr).\n",
        "\n",
        "Considerando os seguintes erros posicionais (em metros) obtidos para 4 interseções:\n",
        "\n",
        "• Cruzamento 1: 1,0 m\n",
        "• Cruzamento 2: 2,0 m\n",
        "• Cruzamento 3: 1,0 m\n",
        "• Cruzamento 4: 2,0 m\n",
        "\n",
        "Considerando √2 = 1,4, √3 = 1,7 e √5 = 2,2, o valor do RMSEr é aproximadamente\n",
        "Alternativas\n",
        "A) 1,00 m.\n",
        "B) 1,19 m.\n",
        "C) 1,54 m.\n",
        "D) 1,87 m.\n",
        "E) 2,20 m.\n",
        "\n",
        "\"\"\")"
      ]
    }
  ],
  "metadata": {
    "colab": {
      "provenance": []
    },
    "kernelspec": {
      "display_name": "Python 3",
      "name": "python3"
    },
    "language_info": {
      "name": "python"
    }
  },
  "nbformat": 4,
  "nbformat_minor": 0
}
