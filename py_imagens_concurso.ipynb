{
  "cells": [
    {
      "cell_type": "code",
      "execution_count": 1,
      "metadata": {
        "id": "mIo7lKI3S9am"
      },
      "outputs": [],
      "source": [
        "import os\n",
        "import base64\n",
        "from openai import AzureOpenAI"
      ]
    },
    {
      "cell_type": "code",
      "execution_count": null,
      "metadata": {
        "colab": {
          "base_uri": "https://localhost:8080/"
        },
        "id": "H8eu1S2ZKqNs",
        "outputId": "fba6a875-373d-449d-a762-50b46eaea33d"
      },
      "outputs": [
        {
          "name": "stdout",
          "output_type": "stream",
          "text": [
            "As três descrições correspondem, respectivamente, a:\n",
            "\n",
            "1. SMTP (envio de mensagens)  \n",
            "2. POP (download e, por padrão, exclusão no servidor)  \n",
            "3. IMAP (sincronização e manutenção no servidor)\n",
            "\n",
            "Portanto a sequência correta é SMTP, POP, IMAP, ou seja, a alternativa D.\n"
          ]
        }
      ],
      "source": [
        "endpoint = \"https://responder-questoes.openai.azure.com/\"\n",
        "model_name = \"o4-mini\"\n",
        "deployment = \"o4-mini\"\n",
        "\n",
        "subscription_key = \"\" # adicionar sua subscription\n",
        "api_version = \"2024-12-01-preview\"\n",
        "\n",
        "client = AzureOpenAI(\n",
        "    api_version=api_version,\n",
        "    azure_endpoint=endpoint,\n",
        "    api_key=subscription_key,\n",
        ")\n",
        "\n",
        "# questão adicionada via google colab, para o caso do windows explorer, terá um caminho diferente\n",
        "with open(\"/content/questao.jpeg\", \"rb\") as image_file: \n",
        "  base64_image = base64.b64encode(image_file.read()).decode('utf-8')\n",
        "image_url = f\"data:image/jpeg;base64,{base64_image}\"\n",
        "\n",
        "response = client.chat.completions.create(\n",
        "    messages=[\n",
        "        {\n",
        "            \"role\": \"system\",\n",
        "            \"content\": \"Você é um assistente útil que analisa imagens de questões de múltipla escolha.\",\n",
        "        },\n",
        "        {\n",
        "            \"role\": \"user\",\n",
        "            \"content\": [\n",
        "                {\n",
        "                    \"type\": \"text\",\n",
        "                    \"text\": \"Analise esta imagem de uma questão com 5 alternativas e diga qual é a resposta correta, explicando-a.\"\n",
        "                },\n",
        "                {\n",
        "                    \"type\": \"image_url\",\n",
        "                    \"image_url\": {\n",
        "                        \"url\": image_url\n",
        "                    }\n",
        "                }\n",
        "            ]\n",
        "        }\n",
        "    ],\n",
        "    max_completion_tokens=4000,\n",
        "    model=deployment\n",
        ")\n",
        "\n",
        "print(response.choices[0].message.content)"
      ]
    },
    {
      "cell_type": "code",
      "execution_count": 2,
      "metadata": {
        "id": "HFHhqgTvRzJX"
      },
      "outputs": [],
      "source": []
    }
  ],
  "metadata": {
    "colab": {
      "provenance": []
    },
    "kernelspec": {
      "display_name": "Python 3",
      "name": "python3"
    },
    "language_info": {
      "name": "python"
    }
  },
  "nbformat": 4,
  "nbformat_minor": 0
}
